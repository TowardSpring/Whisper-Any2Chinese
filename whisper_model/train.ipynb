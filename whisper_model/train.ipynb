{
 "cells": [
  {
   "cell_type": "markdown",
   "metadata": {},
   "source": [
    "### 训练whisper模型并完成测试"
   ]
  },
  {
   "cell_type": "markdown",
   "metadata": {},
   "source": [
    "#### 重新加载一个模型，训练一个新的peft模型"
   ]
  },
  {
   "cell_type": "code",
   "execution_count": 2,
   "metadata": {},
   "outputs": [],
   "source": [
    "from huggingface_hub import notebook_login\n",
    "from datasets import load_dataset, DatasetDict, Dataset\n",
    "from pprint import pprint\n",
    "import os\n",
    "from datasets import Audio\n",
    "import torch\n",
    "from dataclasses import dataclass\n",
    "from typing import Any, Dict, List, Union\n",
    "import evaluate\n",
    "from peft import prepare_model_for_int8_training,LoraConfig, PeftModel, LoraModel, LoraConfig, get_peft_model,PeftModel, PeftConfig\n",
    "from transformers import Seq2SeqTrainer, TrainerCallback, TrainingArguments, TrainerState, TrainerControl,WhisperForConditionalGeneration, Seq2SeqTrainer\n",
    "from transformers.trainer_utils import PREFIX_CHECKPOINT_DIR\n",
    "import gc\n",
    "import numpy as np\n",
    "from tqdm import tqdm\n",
    "from torch.utils.data import DataLoader\n",
    "from transformers.models.whisper.english_normalizer import BasicTextNormalizer\n",
    "from tokenizer import Tokenizer\n",
    "import argparse\n",
    "import yaml\n",
    "import warnings\n",
    "from typing import TYPE_CHECKING, Optional, Tuple, Union\n",
    "from __init__ import load_model\n",
    "from audio import (\n",
    "    FRAMES_PER_SECOND,\n",
    "    HOP_LENGTH,\n",
    "    N_FRAMES,\n",
    "    N_SAMPLES,\n",
    "    SAMPLE_RATE,\n",
    "    log_mel_spectrogram,\n",
    "    pad_or_trim,\n",
    ")\n",
    "\n",
    "from decoding import DecodingOptions, DecodingResult\n",
    "from timing import add_word_timestamps\n",
    "from tokenizer import LANGUAGES, TO_LANGUAGE_CODE, get_tokenizer\n",
    "from utils import (\n",
    "    exact_div,\n",
    "    format_timestamp,\n",
    "    get_writer,\n",
    "    make_safe,\n",
    "    optional_float,\n",
    "    optional_int,\n",
    "    str2bool,\n",
    ")\n",
    "device = torch.device(\"cuda\" if torch.cuda.is_available() else \"cpu\")\n",
    "model_name = 'large'\n",
    "model_dir = '~/.cache/whisper'\n",
    "use_peft = True\n",
    "input_peft_dir = './model/'\n",
    "output_peft_dir = './model/'\n",
    "\n",
    "dataset_dir =  '/home/towardspring/hdd2/dataset/asr/whisper_en'\n",
    "task = 'translate-chinese'\n",
    "language = \"english\"\n",
    "language_abbr = \"en\""
   ]
  },
  {
   "cell_type": "code",
   "execution_count": 5,
   "metadata": {},
   "outputs": [
    {
     "data": {
      "application/vnd.jupyter.widget-view+json": {
       "model_id": "db0871982da6444d8d5800b05e58b87b",
       "version_major": 2,
       "version_minor": 0
      },
      "text/plain": [
       "Resolving data files:   0%|          | 0/80511 [00:00<?, ?it/s]"
      ]
     },
     "metadata": {},
     "output_type": "display_data"
    },
    {
     "data": {
      "application/vnd.jupyter.widget-view+json": {
       "model_id": "6ec5f046902c47aab331e52226f7fda2",
       "version_major": 2,
       "version_minor": 0
      },
      "text/plain": [
       "Resolving data files:   0%|          | 0/34506 [00:00<?, ?it/s]"
      ]
     },
     "metadata": {},
     "output_type": "display_data"
    },
    {
     "name": "stdout",
     "output_type": "stream",
     "text": [
      "{'audio': {'path': '/home/towardspring/hdd2/dataset/asr/whisper_en/data/train/common_voice_en_34925857.mp3', 'array': array([0.00000000e+00, 6.67174345e-12, 8.06623171e-12, ...,\n",
      "       6.04606248e-05, 1.68784260e-04, 9.82716447e-05]), 'sampling_rate': 32000}, 'transcription': 'It is consumed domestically and exported to other countries.', 'chinese': '它在国内消费并出口到其他国家。'}\n"
     ]
    }
   ],
   "source": [
    "# 加载数据\n",
    "\n",
    "dataset = load_dataset(\"audiofolder\", data_dir=\"/home/towardspring/hdd2/dataset/asr/whisper_en\",streaming=True)\n",
    "train_data = dataset[\"train\"]\n",
    "test_data = dataset[\"test\"]\n",
    "\n"
   ]
  },
  {
   "cell_type": "code",
   "execution_count": null,
   "metadata": {},
   "outputs": [],
   "source": [
    "# 加载模型、分词器、特征提取器\n",
    "model = load_model(model_name, device=device, download_root=model_dir)\n",
    "tokenizer = get_tokenizer(model.is_multilingual, language=language, task=task)"
   ]
  },
  {
   "cell_type": "code",
   "execution_count": 6,
   "metadata": {},
   "outputs": [
    {
     "name": "stdout",
     "output_type": "stream",
     "text": [
      "{'audio': {'path': '/home/towardspring/hdd2/dataset/asr/whisper_en/data/train/common_voice_en_34925857.mp3', 'array': array([0.00000000e+00, 6.67174345e-12, 8.06623171e-12, ...,\n",
      "       6.04606248e-05, 1.68784260e-04, 9.82716447e-05]), 'sampling_rate': 32000}, 'transcription': 'It is consumed domestically and exported to other countries.', 'chinese': '它在国内消费并出口到其他国家。'}\n",
      "{'audio': {'path': '/home/towardspring/hdd2/dataset/asr/whisper_en/data/train/common_voice_en_34925857.mp3', 'array': array([ 2.91038305e-11,  0.00000000e+00,  4.72937245e-11, ...,\n",
      "       -1.29326945e-05,  2.53636681e-05,  1.27412495e-04]), 'sampling_rate': 16000}, 'transcription': 'It is consumed domestically and exported to other countries.', 'chinese': '它在国内消费并出口到其他国家。'}\n"
     ]
    }
   ],
   "source": [
    "# 数据预处理函数\n",
    "@dataclass\n",
    "class DataCollatorSpeechSeq2SeqWithPadding:\n",
    "\n",
    "    def __call__(self, batch: List[Dict[str, Union[List[int], torch.Tensor]]]) -> Dict[str, torch.Tensor]:\n",
    "        # 预处理batch数据到16k采样率\n",
    "        batch = batch.cast_column(\"audio\", Audio(sampling_rate=16000))\n",
    "\n",
    "        # load and resample audio data from 48 to 16kHz\n",
    "        audio = batch[\"audio\"]\n",
    "\n",
    "        # compute log-Mel input features from input audio array\n",
    "        batch[\"input_features\"] = log_mel_spectrogram(audio[\"array\"], sampling_rate=audio[\"sampling_rate\"]).input_features[0]\n",
    "\n",
    "        # encode target text to label ids\n",
    "        batch[\"labels\"] = tokenizer(batch[\"transcription\"]).input_ids\n",
    "        \n",
    "        # split inputs and labels since they have to be of different lengths and need different padding methods\n",
    "        # first treat the audio inputs by simply returning torch tensors\n",
    "        input_features = [{\"input_features\": feature[\"input_features\"]} for feature in batch]\n",
    "        batch = pad_or_trim(input_features, return_tensors=\"pt\")\n",
    "\n",
    "        # get the tokenized label sequences\n",
    "        label_features = [{\"input_ids\": feature[\"labels\"]} for feature in batch]\n",
    "        # pad the labels to max length\n",
    "        labels_batch = self.processor.tokenizer.pad(label_features, return_tensors=\"pt\")\n",
    "\n",
    "        # replace padding with -100 to ignore loss correctly\n",
    "        labels = labels_batch[\"input_ids\"].masked_fill(labels_batch.attention_mask.ne(1), -100)\n",
    "\n",
    "        # if bos token is appended in previous tokenization step,\n",
    "        # cut bos token here as it's append later anyways\n",
    "        if (labels[:, 0] == self.processor.tokenizer.bos_token_id).all().cpu().item():\n",
    "            labels = labels[:, 1:]\n",
    "\n",
    "        batch[\"labels\"] = labels\n",
    "\n",
    "        return batch\n",
    "\n",
    "data_collator = DataCollatorSpeechSeq2SeqWithPadding()"
   ]
  }
 ],
 "metadata": {
  "kernelspec": {
   "display_name": "whisper",
   "language": "python",
   "name": "python3"
  },
  "language_info": {
   "codemirror_mode": {
    "name": "ipython",
    "version": 3
   },
   "file_extension": ".py",
   "mimetype": "text/x-python",
   "name": "python",
   "nbconvert_exporter": "python",
   "pygments_lexer": "ipython3",
   "version": "3.9.16"
  },
  "orig_nbformat": 4
 },
 "nbformat": 4,
 "nbformat_minor": 2
}
